{
 "cells": [
  {
   "cell_type": "code",
   "execution_count": 23,
   "id": "75777674",
   "metadata": {},
   "outputs": [],
   "source": [
    "import numpy as np\n",
    "import pandas as pd"
   ]
  },
  {
   "cell_type": "markdown",
   "id": "d7bdec29",
   "metadata": {},
   "source": [
    "# hỗ trợ đa dạng dữ liệu \n",
    "# tích hợp dữ liệu \n",
    "# chuyển đổi dữ liệu\n",
    "# hỗ trợ dữ liệu kiểu time-series \n",
    "# thống kê "
   ]
  },
  {
   "cell_type": "code",
   "execution_count": 3,
   "id": "0545e180",
   "metadata": {},
   "outputs": [
    {
     "name": "stdout",
     "output_type": "stream",
     "text": [
      "0    7.8\n",
      "1    5.5\n",
      "2    6.8\n",
      "3    9.0\n",
      "dtype: float64\n"
     ]
    }
   ],
   "source": [
    "# tao series \n",
    "grades = pd.Series([7.8, 5.5 , 6.8, 9.0])\n",
    "\n",
    "print (grades )"
   ]
  },
  {
   "cell_type": "code",
   "execution_count": 10,
   "id": "2f75214c",
   "metadata": {},
   "outputs": [
    {
     "name": "stdout",
     "output_type": "stream",
     "text": [
      "7.8\n",
      "7.8\n",
      "-------------\n",
      "A1    7.8\n",
      "B2    5.5\n",
      "C3    6.8\n",
      "D4    9.0\n",
      "dtype: float64\n",
      "C3    6.8\n",
      "D4    9.0\n",
      "dtype: float64\n"
     ]
    },
    {
     "name": "stderr",
     "output_type": "stream",
     "text": [
      "C:\\Users\\Lenovo\\AppData\\Local\\Temp\\ipykernel_19064\\2384986203.py:3: FutureWarning: Series.__getitem__ treating keys as positions is deprecated. In a future version, integer keys will always be treated as labels (consistent with DataFrame behavior). To access a value by position, use `ser.iloc[pos]`\n",
      "  print ( grades[0] )\n"
     ]
    }
   ],
   "source": [
    "grades = pd.Series ([7.8, 5.5 , 6.8, 9.0], index = ['A1', 'B2', 'C3', 'D4'])\n",
    "# có thể gán index theo ý muốn, vẫn có thể dùng index mặc định để truy xuất \n",
    "print ( grades[0] )\n",
    "print ( grades['A1'])\n",
    "print ( '-------------')\n",
    "print (grades.head(4)) # lấy ra 4 giá trị đầu \n",
    "print ( grades.tail(2)) # lấy ra 2 giá trị cuối \n",
    "\n"
   ]
  },
  {
   "cell_type": "code",
   "execution_count": 12,
   "id": "f23fe23e",
   "metadata": {},
   "outputs": [
    {
     "name": "stdout",
     "output_type": "stream",
     "text": [
      "A1    7.8\n",
      "B2    5.5\n",
      "C3    6.8\n",
      "D4    9.0\n",
      "E5    9.8\n",
      "dtype: float64\n"
     ]
    }
   ],
   "source": [
    "# có thể thêm phần tử giống như dict\n",
    "grades['E5'] = 9.8\n",
    "print (grades)"
   ]
  },
  {
   "cell_type": "code",
   "execution_count": 13,
   "id": "e0200789",
   "metadata": {},
   "outputs": [
    {
     "name": "stdout",
     "output_type": "stream",
     "text": [
      "(5,)\n",
      "5\n",
      "1\n"
     ]
    }
   ],
   "source": [
    "print (grades.shape)\n",
    "print ( grades.size )\n",
    "print ( grades.ndim)"
   ]
  },
  {
   "cell_type": "code",
   "execution_count": 16,
   "id": "36ca9f54",
   "metadata": {},
   "outputs": [
    {
     "name": "stdout",
     "output_type": "stream",
     "text": [
      "[7.8, 5.5, 6.8, 9.0, 9.8]\n"
     ]
    }
   ],
   "source": [
    "# chuyển sang list :\n",
    "lst_grades = grades.tolist()\n",
    "print (lst_grades )"
   ]
  },
  {
   "cell_type": "code",
   "execution_count": null,
   "id": "0914357c",
   "metadata": {},
   "outputs": [
    {
     "name": "stdout",
     "output_type": "stream",
     "text": [
      "0     1\n",
      "1     4\n",
      "2     9\n",
      "3    16\n",
      "4    25\n",
      "dtype: int64\n",
      "0      1\n",
      "1      8\n",
      "2     27\n",
      "3     64\n",
      "4    125\n",
      "dtype: int64\n"
     ]
    }
   ],
   "source": [
    "# tạo series mới ánh xạ từ series cũ \n",
    "s1 = pd.Series ([1, 2, 3, 4, 5])\n",
    "s2 = s1.map(lambda x : x * x)\n",
    "print ( s2 )\n",
    " # có thể tạo hàm gán vào trong map \n",
    "def func(x):\n",
    "    return x * x * x \n",
    "s3 = s1.map(func)\n",
    "print ( s3 )"
   ]
  },
  {
   "cell_type": "code",
   "execution_count": null,
   "id": "51ac2008",
   "metadata": {},
   "outputs": [
    {
     "name": "stdout",
     "output_type": "stream",
     "text": [
      "['Passed' 'Passed' 'Passed' 'Passed' 'Passed']\n"
     ]
    },
    {
     "data": {
      "text/plain": [
       "count    5.000000\n",
       "mean     7.780000\n",
       "std      1.712308\n",
       "min      5.500000\n",
       "25%      6.800000\n",
       "50%      7.800000\n",
       "75%      9.000000\n",
       "max      9.800000\n",
       "dtype: float64"
      ]
     },
     "execution_count": 27,
     "metadata": {},
     "output_type": "execute_result"
    }
   ],
   "source": [
    "# functions :\n",
    "# count(), sum(), mean(), median(), mode() -- trả về giá trị có tần suất xuất hiện nhiều nhất \n",
    "# std(), prod() tính product values , cumprod(), cumsum() # tổng cộng dồn , min max ....\n",
    "status = np.where(grades > 5.0, 'Passed', \"Not Passed\")\n",
    "print ( status )\n",
    "grades.describe() # thống kê nhanh "
   ]
  },
  {
   "cell_type": "code",
   "execution_count": null,
   "id": "3133357a",
   "metadata": {},
   "outputs": [
    {
     "name": "stdout",
     "output_type": "stream",
     "text": [
      "    Grade  Status\n",
      "A1    7.8  Passed\n",
      "B2    5.5  Passed\n",
      "C3    6.8  Passed\n",
      "D4    9.0  Passed\n",
      "E5    9.8  Passed\n"
     ]
    }
   ],
   "source": [
    "df = pd.DataFrame({'Grade' : grades, 'Status' : status})\n",
    "print (df)\n"
   ]
  }
 ],
 "metadata": {
  "kernelspec": {
   "display_name": "Python 3",
   "language": "python",
   "name": "python3"
  },
  "language_info": {
   "codemirror_mode": {
    "name": "ipython",
    "version": 3
   },
   "file_extension": ".py",
   "mimetype": "text/x-python",
   "name": "python",
   "nbconvert_exporter": "python",
   "pygments_lexer": "ipython3",
   "version": "3.12.4"
  }
 },
 "nbformat": 4,
 "nbformat_minor": 5
}
